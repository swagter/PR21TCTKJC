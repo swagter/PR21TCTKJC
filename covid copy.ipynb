{
 "cells": [
  {
   "cell_type": "markdown",
   "metadata": {
    "lang": "sl"
   },
   "source": [
    "## COVID\n",
    "\n",
    "Podatkovno rudarjenje, naloga, `12.4.2022`  \n",
    "\n",
    "**`Vodja: Jorg Cimperman`**\n",
    "\n",
    "**`Ostali člani: Tomaž Čuk, Tim Kuhar`**"
   ]
  },
  {
   "cell_type": "markdown",
   "metadata": {},
   "source": [
    "##### Priprava podatkov\n",
    "V spodnji celici bomo prebrali csv datoteke in pripravili podatke v pravilni obliki."
   ]
  },
  {
   "cell_type": "code",
   "execution_count": 66,
   "metadata": {},
   "outputs": [],
   "source": [
    "from csv import DictReader\n",
    "\n",
    "def read_file(filename):\n",
    "    arr = []\n",
    "    reader = DictReader(open(filename, 'rt', encoding='utf-8'))\n",
    "    for row in reader:\n",
    "        arr.append(row)\n",
    "    return arr\n",
    "\n",
    "stats = read_file('podatki/stats.csv')\n",
    "\n",
    "vaccination = read_file(\"podatki/vaccination.csv\")\n",
    "\n",
    "region_cases = read_file(\"podatki/region-cases.csv\")\n",
    "\n",
    "# slovarji\n",
    "\n",
    "dict_age_groups = read_file('podatki/slovarji/dict-age-groups.csv')\n",
    "\n",
    "dict_region = read_file('podatki/slovarji/dict-region.csv')\n"
   ]
  },
  {
   "cell_type": "markdown",
   "metadata": {
    "lang": "sl"
   },
   "source": [
    "#### 1. vprašanje: Koliko okužb je glede na cepljenost?\n",
    "<img src=\"https://media0.giphy.com/avatars/designerauge/4rLyVYoSfDJ3.gif\" alt=\"drawing\" width=\"100\" height=\"100\" style=\"display: block; margin-left: auto; margin-right: auto;\"/>\n",
    "\n",
    "\n",
    "\n",
    "<span style=\"align:left; text-align:center;\"><b>Glavno vprašanje</b>, ki se poraja vsakemu Slovencu je seveda, ali je cepivo učinkovito. Zato smo se odločili, da kot prvo vprašanje postavimo, koliko okužb imamo dnevno glede na (pre)cepljenost.</span>\n"
   ]
  },
  {
   "cell_type": "code",
   "execution_count": 67,
   "metadata": {},
   "outputs": [
    {
     "data": {
      "text/plain": [
       "{'date': '2022-04-11',\n",
       " 'positive': 183,\n",
       " 'vaccinated_past_1st': 1264921,\n",
       " 'vaccinated_past_2nd': 1220701,\n",
       " 'vaccinated_past_3rd': 644966}"
      ]
     },
     "execution_count": 67,
     "metadata": {},
     "output_type": "execute_result"
    }
   ],
   "source": [
    "def find_in_dict(dict, key, value):\n",
    "    for row in dict:\n",
    "        if row[key] == value:\n",
    "            return row\n",
    "    return None\n",
    "\n",
    "data = []\n",
    "\n",
    "for day in stats:\n",
    "    day_data = {\n",
    "        \"date\": day[\"date\"],\n",
    "        \"positive\": int(day[\"tests.positive\"]) if len(day[\"tests.positive\"]) else 0,\n",
    "        \"vaccinated_past_1st\": int(day[\"vaccination.administered.todate\"]) if len(day[\"vaccination.administered.todate\"]) else 0,\n",
    "        \"vaccinated_past_2nd\": int(day[\"vaccination.administered2nd.todate\"]) if len(day[\"vaccination.administered2nd.todate\"]) else 0,\n",
    "        \"vaccinated_past_3rd\": int(day[\"vaccination.administered3rd.todate\"]) if len(day[\"vaccination.administered3rd.todate\"]) else 0\n",
    "    }\n",
    "    data.append(day_data)\n",
    "\n",
    "\n",
    "data[len(data) - 1]"
   ]
  }
 ],
 "metadata": {
  "kernelspec": {
   "display_name": "Python 3",
   "language": "python",
   "name": "python3"
  },
  "language_info": {
   "codemirror_mode": {
    "name": "ipython",
    "version": 3
   },
   "file_extension": ".py",
   "mimetype": "text/x-python",
   "name": "python",
   "nbconvert_exporter": "python",
   "pygments_lexer": "ipython3",
   "version": "3.10.3"
  },
  "latex_envs": {
   "LaTeX_envs_menu_present": true,
   "autocomplete": true,
   "bibliofile": "biblio.bib",
   "cite_by": "apalike",
   "current_citInitial": 1,
   "eqLabelWithNumbers": true,
   "eqNumInitial": 1,
   "hotkeys": {
    "equation": "Ctrl-E",
    "itemize": "Ctrl-I"
   },
   "labels_anchors": false,
   "latex_user_defs": false,
   "report_style_numbering": false,
   "user_envs_cfg": false
  },
  "nbTranslate": {
   "displayLangs": [
    "sl"
   ],
   "hotkey": "alt-t",
   "langInMainMenu": true,
   "sourceLang": "sl",
   "targetLang": "en",
   "useGoogleTranslate": true
  }
 },
 "nbformat": 4,
 "nbformat_minor": 2
}
